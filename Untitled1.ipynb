{
 "cells": [
  {
   "cell_type": "code",
   "execution_count": 1,
   "metadata": {},
   "outputs": [
    {
     "data": {
      "text/plain": [
       "val maximum : 'a -> 'a -> 'a = <fun>\n"
      ]
     },
     "execution_count": 1,
     "metadata": {},
     "output_type": "execute_result"
    }
   ],
   "source": [
    "let maximum a b = if a > b then a else b"
   ]
  },
  {
   "cell_type": "code",
   "execution_count": 2,
   "metadata": {},
   "outputs": [
    {
     "data": {
      "text/plain": [
       "val minimum : 'a -> 'a -> 'a = <fun>\n"
      ]
     },
     "execution_count": 2,
     "metadata": {},
     "output_type": "execute_result"
    }
   ],
   "source": [
    "let minimum a b = if a < b then a else b"
   ]
  },
  {
   "cell_type": "code",
   "execution_count": 10,
   "metadata": {},
   "outputs": [
    {
     "data": {
      "text/plain": [
       "val extrema : 'a array -> 'a * 'a = <fun>\n"
      ]
     },
     "execution_count": 10,
     "metadata": {},
     "output_type": "execute_result"
    }
   ],
   "source": [
    "let extrema tbl = \n",
    "    let maxi = ref (tbl.(0)) in\n",
    "    let mini = ref (tbl.(0)) in\n",
    "    for i = 0 to ((Array.length tbl) -1) do\n",
    "        maxi := maximum (tbl.(i)) !maxi;\n",
    "        mini := minimum (tbl.(i)) !mini\n",
    "    done;\n",
    "    (!mini,!maxi)"
   ]
  },
  {
   "cell_type": "code",
   "execution_count": 14,
   "metadata": {},
   "outputs": [
    {
     "data": {
      "text/plain": [
       "val nb_occs : 'a -> 'a array -> int = <fun>\n"
      ]
     },
     "execution_count": 14,
     "metadata": {},
     "output_type": "execute_result"
    }
   ],
   "source": [
    "let nb_occs elt tbl = \n",
    "    let counter = ref 0 in\n",
    "    for i = 0 to ((Array.length tbl)-1) do\n",
    "        if tbl.(i) == elt\n",
    "        then counter := !counter + 1\n",
    "        else ()\n",
    "    done;\n",
    "    (!counter)"
   ]
  },
  {
   "cell_type": "code",
   "execution_count": 19,
   "metadata": {},
   "outputs": [
    {
     "data": {
      "text/plain": [
       "val tab_occs : int array -> int array = <fun>\n"
      ]
     },
     "execution_count": 19,
     "metadata": {},
     "output_type": "execute_result"
    }
   ],
   "source": [
    "let tab_occs tbl = \n",
    "    let temp = (Array.make (Array.length tbl) 0) in\n",
    "    for i = 0 to ((Array.length tbl) - 1) do\n",
    "        temp.(i) <- nb_occs i tbl\n",
    "    done;\n",
    "    (temp)\n",
    "(*n carré*)"
   ]
  },
  {
   "cell_type": "code",
   "execution_count": 18,
   "metadata": {},
   "outputs": [
    {
     "data": {
      "text/plain": [
       "- : int array = [|0; 1; 1; 0; 1; 2; 0|]\n"
      ]
     },
     "execution_count": 18,
     "metadata": {},
     "output_type": "execute_result"
    }
   ],
   "source": [
    "tab_occs [|1;2;5;4;5;12;18|]"
   ]
  },
  {
   "cell_type": "code",
   "execution_count": 58,
   "metadata": {},
   "outputs": [
    {
     "data": {
      "text/plain": [
       "val tab_occs_eff : int array -> int array = <fun>\n"
      ]
     },
     "execution_count": 58,
     "metadata": {},
     "output_type": "execute_result"
    }
   ],
   "source": [
    "let tab_occs_eff tbl = \n",
    "    let l = Array.length tbl in\n",
    "    let temp = (Array.make l 0) in\n",
    "    for i = 0 to (l-1) do\n",
    "        if tbl.(i) < (l - 1)\n",
    "        then temp.(tbl.(i)) <- temp.(tbl.(i)) + 1\n",
    "        else ();\n",
    "    done;\n",
    "    (temp)"
   ]
  },
  {
   "cell_type": "code",
   "execution_count": 59,
   "metadata": {},
   "outputs": [
    {
     "data": {
      "text/plain": [
       "- : int array = [|0; 1; 1; 0; 1; 2; 0|]\n"
      ]
     },
     "execution_count": 59,
     "metadata": {},
     "output_type": "execute_result"
    }
   ],
   "source": [
    "tab_occs_eff [|1;2;5;4;5;12;18|]"
   ]
  },
  {
   "cell_type": "code",
   "execution_count": 68,
   "metadata": {},
   "outputs": [
    {
     "data": {
      "text/plain": [
       "val somme_cumulees : int array -> int array = <fun>\n"
      ]
     },
     "execution_count": 68,
     "metadata": {},
     "output_type": "execute_result"
    }
   ],
   "source": [
    "let somme_cumulees tbl =\n",
    "    let l = (Array.length tbl) in\n",
    "    let temp = Array.make l 0 in\n",
    "    let so_far = ref 0 in\n",
    "    for i = 0 to (l-1) do\n",
    "        so_far := !so_far + tbl.(i);\n",
    "        temp.(i) <- !so_far;\n",
    "    done;\n",
    "    (temp)\n",
    "(*n additions*)"
   ]
  },
  {
   "cell_type": "code",
   "execution_count": 69,
   "metadata": {},
   "outputs": [
    {
     "data": {
      "text/plain": [
       "- : int array = [|2; 3; 3; 10; 20|]\n"
      ]
     },
     "execution_count": 69,
     "metadata": {},
     "output_type": "execute_result"
    }
   ],
   "source": [
    "somme_cumulees [|2;1;0;7;10|]"
   ]
  },
  {
   "cell_type": "code",
   "execution_count": 70,
   "metadata": {},
   "outputs": [
    {
     "data": {
      "text/plain": [
       "val map : ('a -> 'a) -> 'a array -> 'a array = <fun>\n"
      ]
     },
     "execution_count": 70,
     "metadata": {},
     "output_type": "execute_result"
    }
   ],
   "source": [
    "let map predicat tbl =\n",
    "    let l = Array.length tbl in\n",
    "    for i = 0 to (l-1) do\n",
    "        tbl.(i) <- predicat tbl.(i)\n",
    "    done;\n",
    "    (tbl)"
   ]
  },
  {
   "cell_type": "code",
   "execution_count": 71,
   "metadata": {},
   "outputs": [
    {
     "data": {
      "text/plain": [
       "- : int array = [|3; 7; 1; 9|]\n"
      ]
     },
     "execution_count": 71,
     "metadata": {},
     "output_type": "execute_result"
    }
   ],
   "source": [
    "map (fun i ->2*i - 1) [|2;4;1;5|]"
   ]
  },
  {
   "cell_type": "code",
   "execution_count": 79,
   "metadata": {},
   "outputs": [
    {
     "data": {
      "text/plain": [
       "val init : int -> (int -> int) -> int array = <fun>\n"
      ]
     },
     "execution_count": 79,
     "metadata": {},
     "output_type": "execute_result"
    }
   ],
   "source": [
    "let init l predicat = \n",
    "    let temp = Array.make l 0 in\n",
    "    for i = 0 to (l-1) do\n",
    "        temp.(i) <- predicat i\n",
    "    done;\n",
    "    (temp)"
   ]
  },
  {
   "cell_type": "code",
   "execution_count": 80,
   "metadata": {},
   "outputs": [
    {
     "data": {
      "text/plain": [
       "- : int array = [|0; 1; 4; 9; 16|]\n"
      ]
     },
     "execution_count": 80,
     "metadata": {},
     "output_type": "execute_result"
    }
   ],
   "source": [
    "init 5 (fun i -> i * i)"
   ]
  },
  {
   "cell_type": "code",
   "execution_count": 127,
   "metadata": {},
   "outputs": [
    {
     "data": {
      "text/plain": [
       "val to_list : 'a array -> 'a list = <fun>\n"
      ]
     },
     "execution_count": 127,
     "metadata": {},
     "output_type": "execute_result"
    }
   ],
   "source": [
    "let to_list tbl = \n",
    "    let l = Array.length tbl in\n",
    "        let rec aux array counter = \n",
    "            match counter with\n",
    "                |x when x = (l-1) -> [array.(l-1)]\n",
    "                | _ -> array.(counter) :: (aux array (counter + 1))\n",
    "        in aux tbl 0"
   ]
  },
  {
   "cell_type": "code",
   "execution_count": 128,
   "metadata": {},
   "outputs": [
    {
     "data": {
      "text/plain": [
       "- : int list = [2; 4; 1; 5]\n"
      ]
     },
     "execution_count": 128,
     "metadata": {},
     "output_type": "execute_result"
    }
   ],
   "source": [
    "to_list [|2;4;1;5|]"
   ]
  },
  {
   "cell_type": "code",
   "execution_count": 130,
   "metadata": {},
   "outputs": [
    {
     "data": {
      "text/plain": [
       "val of_list : int list -> int array = <fun>\n"
      ]
     },
     "execution_count": 130,
     "metadata": {},
     "output_type": "execute_result"
    }
   ],
   "source": [
    "let of_list lst = \n",
    "    let tbl = Array.make (List.length lst) 0 in\n",
    "    let rec aux array l counter = \n",
    "        match l with\n",
    "            | [] -> array\n",
    "            | h :: t -> array.(counter) <- h; aux array t (counter + 1)\n",
    "    in aux tbl lst 0"
   ]
  },
  {
   "cell_type": "code",
   "execution_count": 133,
   "metadata": {},
   "outputs": [
    {
     "data": {
      "text/plain": [
       "- : int array = [|1|]\n"
      ]
     },
     "execution_count": 133,
     "metadata": {},
     "output_type": "execute_result"
    }
   ],
   "source": [
    "of_list [1]"
   ]
  },
  {
   "cell_type": "code",
   "execution_count": 135,
   "metadata": {},
   "outputs": [
    {
     "data": {
      "text/plain": [
       "val somme : int list -> int = <fun>\n"
      ]
     },
     "execution_count": 135,
     "metadata": {},
     "output_type": "execute_result"
    }
   ],
   "source": [
    "let rec somme lst = \n",
    "    match lst with\n",
    "        |[] -> 0\n",
    "        | h :: t -> h + (somme t)"
   ]
  },
  {
   "cell_type": "code",
   "execution_count": 136,
   "metadata": {},
   "outputs": [
    {
     "data": {
      "text/plain": [
       "- : int = 6\n"
      ]
     },
     "execution_count": 136,
     "metadata": {},
     "output_type": "execute_result"
    }
   ],
   "source": [
    "somme [1;2;3]"
   ]
  },
  {
   "cell_type": "code",
   "execution_count": 138,
   "metadata": {},
   "outputs": [
    {
     "data": {
      "text/plain": [
       "val produit : int list -> int = <fun>\n"
      ]
     },
     "execution_count": 138,
     "metadata": {},
     "output_type": "execute_result"
    }
   ],
   "source": [
    "let rec produit lst =\n",
    "    match lst with\n",
    "        |[] -> 1\n",
    "        | h :: t -> h * (produit t)"
   ]
  },
  {
   "cell_type": "code",
   "execution_count": 139,
   "metadata": {},
   "outputs": [
    {
     "data": {
      "text/plain": [
       "- : int = 6\n"
      ]
     },
     "execution_count": 139,
     "metadata": {},
     "output_type": "execute_result"
    }
   ],
   "source": [
    "produit [1;2;3]"
   ]
  },
  {
   "cell_type": "code",
   "execution_count": 140,
   "metadata": {},
   "outputs": [
    {
     "data": {
      "text/plain": [
       "- : int list = [1; 2; 3; 4; 5; 6]\n"
      ]
     },
     "execution_count": 140,
     "metadata": {},
     "output_type": "execute_result"
    }
   ],
   "source": [
    "List.flatten [[1;2];[3;4];[5;6]]"
   ]
  },
  {
   "cell_type": "code",
   "execution_count": 141,
   "metadata": {},
   "outputs": [
    {
     "ename": "error",
     "evalue": "compile_error",
     "output_type": "error",
     "traceback": [
      "File \"[141]\", line 7, characters 54-56:\n7 |                         | hf :: hs -> hf :: (applatir hs)\n                                                          ^^\nError: This expression has type 'a list\n       but an expression was expected of type 'a list list\n       The type variable 'a occurs inside 'a list\n"
     ]
    }
   ],
   "source": [
    "let rec applatir lst = \n",
    "    match lst with\n",
    "        |[] -> []\n",
    "        | h :: t -> "
   ]
  },
  {
   "cell_type": "code",
   "execution_count": 143,
   "metadata": {},
   "outputs": [
    {
     "data": {
      "text/plain": [
       "- : int list list = [[1; 2]; [1]]\n"
      ]
     },
     "execution_count": 143,
     "metadata": {},
     "output_type": "execute_result"
    }
   ],
   "source": [
    "[1;2] :: [1] :: []"
   ]
  },
  {
   "cell_type": "code",
   "execution_count": 148,
   "metadata": {},
   "outputs": [
    {
     "data": {
      "text/plain": [
       "val max_liste : int list -> int = <fun>\n"
      ]
     },
     "execution_count": 148,
     "metadata": {},
     "output_type": "execute_result"
    }
   ],
   "source": [
    "let max_liste lst = \n",
    "    let maxi_ending_here = ref 0 in\n",
    "    let maxi_so_far = ref 0 in\n",
    "    let rec aux l = \n",
    "        match l with\n",
    "            |[] -> 0\n",
    "            | h :: t -> maxi_ending_here := max (!maxi_ending_here + h) 0; maxi_so_far := max !maxi_so_far !maxi_ending_here; aux t;\n",
    "    in aux lst "
   ]
  },
  {
   "cell_type": "code",
   "execution_count": 149,
   "metadata": {},
   "outputs": [
    {
     "data": {
      "text/plain": [
       "- : int = 0\n"
      ]
     },
     "execution_count": 149,
     "metadata": {},
     "output_type": "execute_result"
    }
   ],
   "source": [
    "max_liste [1;-2;-3;-4;5]"
   ]
  },
  {
   "cell_type": "code",
   "execution_count": null,
   "metadata": {},
   "outputs": [],
   "source": []
  }
 ],
 "metadata": {
  "kernelspec": {
   "display_name": "OCaml 4.11.2+fp+flambda",
   "language": "OCaml",
   "name": "ocaml-jupyter"
  },
  "language_info": {
   "codemirror_mode": "text/x-ocaml",
   "file_extension": ".ml",
   "mimetype": "text/x-ocaml",
   "name": "OCaml",
   "nbconverter_exporter": null,
   "pygments_lexer": "OCaml",
   "version": "4.11.2"
  }
 },
 "nbformat": 4,
 "nbformat_minor": 4
}
